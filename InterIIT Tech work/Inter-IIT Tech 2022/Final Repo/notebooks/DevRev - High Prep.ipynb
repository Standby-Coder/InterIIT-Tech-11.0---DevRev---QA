{
 "cells": [
  {
   "cell_type": "code",
   "execution_count": 2,
   "metadata": {},
   "outputs": [],
   "source": [
    "import pandas as pd\n",
    "import re\n",
    "import numpy as np\n",
    "import matplotlib.pyplot as plt\n",
    "import seaborn as sns\n",
    "import warnings\n",
    "warnings.filterwarnings('ignore')\n",
    "%matplotlib inline\n",
    "\n",
    "import torch\n",
    "import torch.nn as nn\n",
    "import torch.nn.functional as F\n",
    "import torch.optim as optim\n",
    "from torch.utils.data import Dataset, DataLoader\n",
    "from torch.utils.data.sampler import SubsetRandomSampler\n",
    "from torch.autograd import Variable\n",
    "from torch.nn.utils.rnn import pack_padded_sequence, pad_packed_sequence\n",
    "import torchmetrics"
   ]
  },
  {
   "cell_type": "code",
   "execution_count": 3,
   "metadata": {},
   "outputs": [
    {
     "data": {
      "text/html": [
       "<div>\n",
       "<style scoped>\n",
       "    .dataframe tbody tr th:only-of-type {\n",
       "        vertical-align: middle;\n",
       "    }\n",
       "\n",
       "    .dataframe tbody tr th {\n",
       "        vertical-align: top;\n",
       "    }\n",
       "\n",
       "    .dataframe thead th {\n",
       "        text-align: right;\n",
       "    }\n",
       "</style>\n",
       "<table border=\"1\" class=\"dataframe\">\n",
       "  <thead>\n",
       "    <tr style=\"text-align: right;\">\n",
       "      <th></th>\n",
       "      <th>Theme</th>\n",
       "      <th>Paragraph</th>\n",
       "      <th>Question</th>\n",
       "      <th>Answer_possible</th>\n",
       "      <th>Answer_text</th>\n",
       "      <th>Answer_start</th>\n",
       "    </tr>\n",
       "  </thead>\n",
       "  <tbody>\n",
       "    <tr>\n",
       "      <th>2</th>\n",
       "      <td>Beyoncé</td>\n",
       "      <td>Beyoncé Giselle Knowles-Carter (/biːˈjɒnseɪ/ b...</td>\n",
       "      <td>When did Beyonce leave Destiny's Child and bec...</td>\n",
       "      <td>True</td>\n",
       "      <td>['2003']</td>\n",
       "      <td>[526]</td>\n",
       "    </tr>\n",
       "    <tr>\n",
       "      <th>6</th>\n",
       "      <td>Beyoncé</td>\n",
       "      <td>Beyoncé Giselle Knowles-Carter (/biːˈjɒnseɪ/ b...</td>\n",
       "      <td>What album made her a worldwide known artist?</td>\n",
       "      <td>True</td>\n",
       "      <td>['Dangerously in Love']</td>\n",
       "      <td>[505]</td>\n",
       "    </tr>\n",
       "    <tr>\n",
       "      <th>7</th>\n",
       "      <td>Beyoncé</td>\n",
       "      <td>Beyoncé Giselle Knowles-Carter (/biːˈjɒnseɪ/ b...</td>\n",
       "      <td>Who managed the Destiny's Child group?</td>\n",
       "      <td>True</td>\n",
       "      <td>['Mathew Knowles']</td>\n",
       "      <td>[360]</td>\n",
       "    </tr>\n",
       "    <tr>\n",
       "      <th>8</th>\n",
       "      <td>Beyoncé</td>\n",
       "      <td>Beyoncé Giselle Knowles-Carter (/biːˈjɒnseɪ/ b...</td>\n",
       "      <td>When did Beyoncé rise to fame?</td>\n",
       "      <td>True</td>\n",
       "      <td>['late 1990s']</td>\n",
       "      <td>[276]</td>\n",
       "    </tr>\n",
       "    <tr>\n",
       "      <th>9</th>\n",
       "      <td>Beyoncé</td>\n",
       "      <td>Beyoncé Giselle Knowles-Carter (/biːˈjɒnseɪ/ b...</td>\n",
       "      <td>What role did Beyoncé have in Destiny's Child?</td>\n",
       "      <td>True</td>\n",
       "      <td>['lead singer']</td>\n",
       "      <td>[290]</td>\n",
       "    </tr>\n",
       "  </tbody>\n",
       "</table>\n",
       "</div>"
      ],
      "text/plain": [
       "     Theme                                          Paragraph  \\\n",
       "2  Beyoncé  Beyoncé Giselle Knowles-Carter (/biːˈjɒnseɪ/ b...   \n",
       "6  Beyoncé  Beyoncé Giselle Knowles-Carter (/biːˈjɒnseɪ/ b...   \n",
       "7  Beyoncé  Beyoncé Giselle Knowles-Carter (/biːˈjɒnseɪ/ b...   \n",
       "8  Beyoncé  Beyoncé Giselle Knowles-Carter (/biːˈjɒnseɪ/ b...   \n",
       "9  Beyoncé  Beyoncé Giselle Knowles-Carter (/biːˈjɒnseɪ/ b...   \n",
       "\n",
       "                                            Question  Answer_possible  \\\n",
       "2  When did Beyonce leave Destiny's Child and bec...             True   \n",
       "6      What album made her a worldwide known artist?             True   \n",
       "7             Who managed the Destiny's Child group?             True   \n",
       "8                     When did Beyoncé rise to fame?             True   \n",
       "9     What role did Beyoncé have in Destiny's Child?             True   \n",
       "\n",
       "               Answer_text Answer_start  \n",
       "2                 ['2003']        [526]  \n",
       "6  ['Dangerously in Love']        [505]  \n",
       "7       ['Mathew Knowles']        [360]  \n",
       "8           ['late 1990s']        [276]  \n",
       "9          ['lead singer']        [290]  "
      ]
     },
     "execution_count": 3,
     "metadata": {},
     "output_type": "execute_result"
    }
   ],
   "source": [
    "train = pd.read_csv('train_data.csv', index_col='Unnamed: 0', )\n",
    "train.head()"
   ]
  },
  {
   "cell_type": "code",
   "execution_count": 4,
   "metadata": {},
   "outputs": [
    {
     "name": "stdout",
     "output_type": "stream",
     "text": [
      "(75055, 6)\n",
      "Theme              object\n",
      "Paragraph          object\n",
      "Question           object\n",
      "Answer_possible      bool\n",
      "Answer_text        object\n",
      "Answer_start       object\n",
      "dtype: object\n",
      "Theme              0\n",
      "Paragraph          0\n",
      "Question           0\n",
      "Answer_possible    0\n",
      "Answer_text        0\n",
      "Answer_start       0\n",
      "dtype: int64\n",
      "                 Theme                                          Paragraph  \\\n",
      "count            75055                                              75055   \n",
      "unique             361                                              15555   \n",
      "top     Queen_Victoria  In 1887, the British Empire celebrated Victori...   \n",
      "freq               607                                                 19   \n",
      "\n",
      "                         Question Answer_possible Answer_text Answer_start  \n",
      "count                       75055           75055       75055        75055  \n",
      "unique                      75021               2       39410         1484  \n",
      "top     When was the Crimean War?            True          []           []  \n",
      "freq                            2           50125       24930        24930  \n"
     ]
    }
   ],
   "source": [
    "print(train.shape)\n",
    "\n",
    "print(train.dtypes)\n",
    "print(train.isnull().sum())\n",
    "print(train.describe())"
   ]
  },
  {
   "cell_type": "code",
   "execution_count": 5,
   "metadata": {},
   "outputs": [
    {
     "data": {
      "text/plain": [
       "True     50125\n",
       "False    24930\n",
       "Name: Answer_possible, dtype: int64"
      ]
     },
     "execution_count": 5,
     "metadata": {},
     "output_type": "execute_result"
    }
   ],
   "source": [
    "train['Answer_possible'].value_counts()"
   ]
  },
  {
   "cell_type": "code",
   "execution_count": 6,
   "metadata": {},
   "outputs": [
    {
     "name": "stdout",
     "output_type": "stream",
     "text": [
      "Theme  =  Qing_dynasty\n",
      "\n",
      "Paragraph =  The Qing dynasty (Chinese: 清朝; pinyin: Qīng Cháo; Wade–Giles: Ch'ing Ch'ao; IPA: [tɕʰíŋ tʂʰɑ̌ʊ̯]), officially the Great Qing (Chinese: 大清; pinyin: Dà Qīng), also called the Empire of the Great Qing, or the Manchu dynasty, was the last imperial dynasty of China, ruling from 1644 to 1912 with a brief, abortive restoration in 1917. It was preceded by the Ming dynasty and succeeded by the Republic of China. The Qing multi-cultural empire lasted almost three centuries and formed the territorial base for the modern Chinese state.\n",
      "\n",
      "Question =  When did the Manchu dynasty rule?\n",
      "\n",
      "Expected Answer Start =  [274]\n",
      "Expected Answer =  ['1644 to 1912']\n",
      "Answer at given start index =  1644 to 1912\n"
     ]
    }
   ],
   "source": [
    "ex = train[train['Answer_possible'] == 1].sample()\n",
    "print(\"Theme  = \",ex['Theme'].values[0])\n",
    "print(\"\\nParagraph = \",ex['Paragraph'].values[0])\n",
    "ans_start_str = ex['Answer_start'].values[0]\n",
    "ans_start = int(ans_start_str[1:-1])\n",
    "l = len(ex['Answer_text'].values[0][1:-1])\n",
    "print(\"\\nQuestion = \",ex['Question'].values[0])\n",
    "print(\"\\nExpected Answer Start = \",ex['Answer_start'].values[0])\n",
    "print(\"Expected Answer = \",ex['Answer_text'].values[0])\n",
    "print(\"Answer at given start index = \",ex['Paragraph'].values[0][ans_start:ans_start+l-2])\n"
   ]
  },
  {
   "cell_type": "code",
   "execution_count": 9,
   "metadata": {},
   "outputs": [
    {
     "name": "stdout",
     "output_type": "stream",
     "text": [
      "2          694\n",
      "6          694\n",
      "7          694\n",
      "8          694\n",
      "9          694\n",
      "          ... \n",
      "130309    1237\n",
      "130310    1237\n",
      "130312    1237\n",
      "130314     551\n",
      "130318     551\n",
      "Name: Paragraph, Length: 75055, dtype: int64\n"
     ]
    }
   ],
   "source": [
    "print(train[\"Paragraph\"].apply(lambda x: len(x)))"
   ]
  },
  {
   "cell_type": "code",
   "execution_count": 10,
   "metadata": {},
   "outputs": [
    {
     "name": "stdout",
     "output_type": "stream",
     "text": [
      "          Theme                                          Paragraph  \\\n",
      "2       Beyoncé  Beyoncé Giselle Knowles-Carter (/biːˈjɒnseɪ/ b...   \n",
      "6       Beyoncé  Beyoncé Giselle Knowles-Carter (/biːˈjɒnseɪ/ b...   \n",
      "7       Beyoncé  Beyoncé Giselle Knowles-Carter (/biːˈjɒnseɪ/ b...   \n",
      "8       Beyoncé  Beyoncé Giselle Knowles-Carter (/biːˈjɒnseɪ/ b...   \n",
      "9       Beyoncé  Beyoncé Giselle Knowles-Carter (/biːˈjɒnseɪ/ b...   \n",
      "...         ...                                                ...   \n",
      "130309   Matter  These quarks and leptons interact through four...   \n",
      "130310   Matter  These quarks and leptons interact through four...   \n",
      "130312   Matter  These quarks and leptons interact through four...   \n",
      "130314   Matter  The term \"matter\" is used throughout physics i...   \n",
      "130318   Matter  The term \"matter\" is used throughout physics i...   \n",
      "\n",
      "                                                 Question  Answer_possible  \\\n",
      "2       When did Beyonce leave Destiny's Child and bec...             True   \n",
      "6           What album made her a worldwide known artist?             True   \n",
      "7                  Who managed the Destiny's Child group?             True   \n",
      "8                          When did Beyoncé rise to fame?             True   \n",
      "9          What role did Beyoncé have in Destiny's Child?             True   \n",
      "...                                                   ...              ...   \n",
      "130309             How many quarks and leptons are there?            False   \n",
      "130310        What model satisfactorily explains gravity?            False   \n",
      "130312    Mass and energy can always be compared to what?            False   \n",
      "130314  Physics has broadly agreed on the definition o...            False   \n",
      "130318  What field of study has a variety of unusual c...            False   \n",
      "\n",
      "                    Answer_text Answer_start  \n",
      "2                      ['2003']        [526]  \n",
      "6       ['Dangerously in Love']        [505]  \n",
      "7            ['Mathew Knowles']        [360]  \n",
      "8                ['late 1990s']        [276]  \n",
      "9               ['lead singer']        [290]  \n",
      "...                         ...          ...  \n",
      "130309                       []           []  \n",
      "130310                       []           []  \n",
      "130312                       []           []  \n",
      "130314                       []           []  \n",
      "130318                       []           []  \n",
      "\n",
      "[75055 rows x 6 columns]\n"
     ]
    }
   ],
   "source": []
  },
  {
   "cell_type": "code",
   "execution_count": null,
   "metadata": {},
   "outputs": [],
   "source": []
  }
 ],
 "metadata": {
  "kernelspec": {
   "display_name": "Python 3",
   "language": "python",
   "name": "python3"
  },
  "language_info": {
   "codemirror_mode": {
    "name": "ipython",
    "version": 3
   },
   "file_extension": ".py",
   "mimetype": "text/x-python",
   "name": "python",
   "nbconvert_exporter": "python",
   "pygments_lexer": "ipython3",
   "version": "3.10.0 (tags/v3.10.0:b494f59, Oct  4 2021, 19:00:18) [MSC v.1929 64 bit (AMD64)]"
  },
  "orig_nbformat": 4,
  "vscode": {
   "interpreter": {
    "hash": "369f2c481f4da34e4445cda3fffd2e751bd1c4d706f27375911949ba6bb62e1c"
   }
  }
 },
 "nbformat": 4,
 "nbformat_minor": 2
}
