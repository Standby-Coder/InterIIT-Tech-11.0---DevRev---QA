{
  "cells": [
    {
      "cell_type": "code",
      "execution_count": 3,
      "metadata": {
        "id": "9i4ffN-TlQst"
      },
      "outputs": [],
      "source": [
        "import pandas as pd\n",
        "import numpy as np\n",
        "import matplotlib.pyplot as plt\n",
        "%matplotlib inline\n",
        "import seaborn as sns"
      ]
    },
    {
      "cell_type": "code",
      "execution_count": 4,
      "metadata": {
        "id": "61RsDUjtMgJN"
      },
      "outputs": [],
      "source": [
        "train = pd.read_csv('train_data.csv')"
      ]
    },
    {
      "cell_type": "code",
      "execution_count": 5,
      "metadata": {
        "colab": {
          "base_uri": "https://localhost:8080/",
          "height": 206
        },
        "id": "FQQ3P2ZrMluI",
        "outputId": "3303b862-0f19-4c5f-966e-0b1a37f56a15"
      },
      "outputs": [
        {
          "data": {
            "text/html": [
              "<div>\n",
              "<style scoped>\n",
              "    .dataframe tbody tr th:only-of-type {\n",
              "        vertical-align: middle;\n",
              "    }\n",
              "\n",
              "    .dataframe tbody tr th {\n",
              "        vertical-align: top;\n",
              "    }\n",
              "\n",
              "    .dataframe thead th {\n",
              "        text-align: right;\n",
              "    }\n",
              "</style>\n",
              "<table border=\"1\" class=\"dataframe\">\n",
              "  <thead>\n",
              "    <tr style=\"text-align: right;\">\n",
              "      <th></th>\n",
              "      <th>Unnamed: 0</th>\n",
              "      <th>Theme</th>\n",
              "      <th>Paragraph</th>\n",
              "      <th>Question</th>\n",
              "      <th>Answer_possible</th>\n",
              "      <th>Answer_text</th>\n",
              "      <th>Answer_start</th>\n",
              "    </tr>\n",
              "  </thead>\n",
              "  <tbody>\n",
              "    <tr>\n",
              "      <th>0</th>\n",
              "      <td>2</td>\n",
              "      <td>Beyoncé</td>\n",
              "      <td>Beyoncé Giselle Knowles-Carter (/biːˈjɒnseɪ/ b...</td>\n",
              "      <td>When did Beyonce leave Destiny's Child and bec...</td>\n",
              "      <td>True</td>\n",
              "      <td>['2003']</td>\n",
              "      <td>[526]</td>\n",
              "    </tr>\n",
              "    <tr>\n",
              "      <th>1</th>\n",
              "      <td>6</td>\n",
              "      <td>Beyoncé</td>\n",
              "      <td>Beyoncé Giselle Knowles-Carter (/biːˈjɒnseɪ/ b...</td>\n",
              "      <td>What album made her a worldwide known artist?</td>\n",
              "      <td>True</td>\n",
              "      <td>['Dangerously in Love']</td>\n",
              "      <td>[505]</td>\n",
              "    </tr>\n",
              "    <tr>\n",
              "      <th>2</th>\n",
              "      <td>7</td>\n",
              "      <td>Beyoncé</td>\n",
              "      <td>Beyoncé Giselle Knowles-Carter (/biːˈjɒnseɪ/ b...</td>\n",
              "      <td>Who managed the Destiny's Child group?</td>\n",
              "      <td>True</td>\n",
              "      <td>['Mathew Knowles']</td>\n",
              "      <td>[360]</td>\n",
              "    </tr>\n",
              "    <tr>\n",
              "      <th>3</th>\n",
              "      <td>8</td>\n",
              "      <td>Beyoncé</td>\n",
              "      <td>Beyoncé Giselle Knowles-Carter (/biːˈjɒnseɪ/ b...</td>\n",
              "      <td>When did Beyoncé rise to fame?</td>\n",
              "      <td>True</td>\n",
              "      <td>['late 1990s']</td>\n",
              "      <td>[276]</td>\n",
              "    </tr>\n",
              "    <tr>\n",
              "      <th>4</th>\n",
              "      <td>9</td>\n",
              "      <td>Beyoncé</td>\n",
              "      <td>Beyoncé Giselle Knowles-Carter (/biːˈjɒnseɪ/ b...</td>\n",
              "      <td>What role did Beyoncé have in Destiny's Child?</td>\n",
              "      <td>True</td>\n",
              "      <td>['lead singer']</td>\n",
              "      <td>[290]</td>\n",
              "    </tr>\n",
              "  </tbody>\n",
              "</table>\n",
              "</div>"
            ],
            "text/plain": [
              "   Unnamed: 0    Theme                                          Paragraph  \\\n",
              "0           2  Beyoncé  Beyoncé Giselle Knowles-Carter (/biːˈjɒnseɪ/ b...   \n",
              "1           6  Beyoncé  Beyoncé Giselle Knowles-Carter (/biːˈjɒnseɪ/ b...   \n",
              "2           7  Beyoncé  Beyoncé Giselle Knowles-Carter (/biːˈjɒnseɪ/ b...   \n",
              "3           8  Beyoncé  Beyoncé Giselle Knowles-Carter (/biːˈjɒnseɪ/ b...   \n",
              "4           9  Beyoncé  Beyoncé Giselle Knowles-Carter (/biːˈjɒnseɪ/ b...   \n",
              "\n",
              "                                            Question  Answer_possible  \\\n",
              "0  When did Beyonce leave Destiny's Child and bec...             True   \n",
              "1      What album made her a worldwide known artist?             True   \n",
              "2             Who managed the Destiny's Child group?             True   \n",
              "3                     When did Beyoncé rise to fame?             True   \n",
              "4     What role did Beyoncé have in Destiny's Child?             True   \n",
              "\n",
              "               Answer_text Answer_start  \n",
              "0                 ['2003']        [526]  \n",
              "1  ['Dangerously in Love']        [505]  \n",
              "2       ['Mathew Knowles']        [360]  \n",
              "3           ['late 1990s']        [276]  \n",
              "4          ['lead singer']        [290]  "
            ]
          },
          "execution_count": 5,
          "metadata": {},
          "output_type": "execute_result"
        }
      ],
      "source": [
        "train.head()"
      ]
    },
    {
      "cell_type": "code",
      "execution_count": 6,
      "metadata": {
        "colab": {
          "base_uri": "https://localhost:8080/"
        },
        "id": "r9H5_pAcOT_S",
        "outputId": "b19151a9-58da-43f8-8c3e-5788dcce66b6"
      },
      "outputs": [
        {
          "data": {
            "text/plain": [
              "Unnamed: 0          int64\n",
              "Theme              object\n",
              "Paragraph          object\n",
              "Question           object\n",
              "Answer_possible      bool\n",
              "Answer_text        object\n",
              "Answer_start       object\n",
              "dtype: object"
            ]
          },
          "execution_count": 6,
          "metadata": {},
          "output_type": "execute_result"
        }
      ],
      "source": [
        "train.dtypes"
      ]
    },
    {
      "cell_type": "code",
      "execution_count": 7,
      "metadata": {
        "colab": {
          "base_uri": "https://localhost:8080/"
        },
        "id": "WWZdZJMaMnst",
        "outputId": "f27a2230-60e2-4c9a-e179-bc18ff036193"
      },
      "outputs": [
        {
          "data": {
            "text/plain": [
              "361"
            ]
          },
          "execution_count": 7,
          "metadata": {},
          "output_type": "execute_result"
        }
      ],
      "source": [
        "train['Theme'].nunique()"
      ]
    },
    {
      "cell_type": "code",
      "execution_count": 8,
      "metadata": {
        "colab": {
          "base_uri": "https://localhost:8080/"
        },
        "id": "8pelYU2jM1ta",
        "outputId": "75de76a5-52c2-4c52-dfdb-99c72b93180e"
      },
      "outputs": [
        {
          "data": {
            "text/plain": [
              "15555"
            ]
          },
          "execution_count": 8,
          "metadata": {},
          "output_type": "execute_result"
        }
      ],
      "source": [
        "train['Paragraph'].nunique()"
      ]
    },
    {
      "cell_type": "code",
      "execution_count": 9,
      "metadata": {
        "colab": {
          "base_uri": "https://localhost:8080/"
        },
        "id": "4AcOxjLiM7Hy",
        "outputId": "130ec22a-280d-4270-a202-7f1ed1f4467e"
      },
      "outputs": [
        {
          "data": {
            "text/plain": [
              "(75055, 7)"
            ]
          },
          "execution_count": 9,
          "metadata": {},
          "output_type": "execute_result"
        }
      ],
      "source": [
        "train.shape"
      ]
    },
    {
      "cell_type": "code",
      "execution_count": 10,
      "metadata": {
        "colab": {
          "base_uri": "https://localhost:8080/"
        },
        "id": "VZlvkYRxM9Fx",
        "outputId": "f1ec522c-f638-4506-bfdb-6187da56692c"
      },
      "outputs": [
        {
          "data": {
            "text/plain": [
              "True     50125\n",
              "False    24930\n",
              "Name: Answer_possible, dtype: int64"
            ]
          },
          "execution_count": 10,
          "metadata": {},
          "output_type": "execute_result"
        }
      ],
      "source": [
        "train['Answer_possible'].value_counts()"
      ]
    },
    {
      "cell_type": "code",
      "execution_count": 11,
      "metadata": {
        "colab": {
          "base_uri": "https://localhost:8080/"
        },
        "id": "Ihy91fjINElD",
        "outputId": "c9b6ed10-5064-40cb-c819-151155fc24f3"
      },
      "outputs": [
        {
          "data": {
            "text/plain": [
              "Unnamed: 0         75055\n",
              "Theme              75055\n",
              "Paragraph          75055\n",
              "Question           75055\n",
              "Answer_possible    75055\n",
              "Answer_text        75055\n",
              "Answer_start       75055\n",
              "dtype: int64"
            ]
          },
          "execution_count": 11,
          "metadata": {},
          "output_type": "execute_result"
        }
      ],
      "source": [
        "train.count()"
      ]
    },
    {
      "cell_type": "code",
      "execution_count": 12,
      "metadata": {
        "colab": {
          "base_uri": "https://localhost:8080/"
        },
        "id": "25GkFUjiRrBO",
        "outputId": "3f846a97-617f-44a5-c87c-75d138884957"
      },
      "outputs": [
        {
          "data": {
            "text/plain": [
              "Queen_Victoria                                    607\n",
              "New_York_City                                     563\n",
              "American_Idol                                     525\n",
              "Beyoncé                                           523\n",
              "Frédéric_Chopin                                   490\n",
              "                                                 ... \n",
              "Digestion                                          56\n",
              "Animal                                             53\n",
              "Letter_case                                        42\n",
              "Race_and_ethnicity_in_the_United_States_Census     38\n",
              "Pitch_(music)                                      22\n",
              "Name: Theme, Length: 361, dtype: int64"
            ]
          },
          "execution_count": 12,
          "metadata": {},
          "output_type": "execute_result"
        }
      ],
      "source": [
        "train['Theme'].value_counts()"
      ]
    },
    {
      "cell_type": "code",
      "execution_count": 13,
      "metadata": {
        "colab": {
          "base_uri": "https://localhost:8080/"
        },
        "id": "lVtWeZOOTPwc",
        "outputId": "0b4e5aba-90a2-41d0-d0a4-4df71c724b4e"
      },
      "outputs": [
        {
          "data": {
            "text/plain": [
              "0        1\n",
              "1        1\n",
              "2        1\n",
              "3        1\n",
              "4        1\n",
              "        ..\n",
              "75050    0\n",
              "75051    0\n",
              "75052    0\n",
              "75053    0\n",
              "75054    0\n",
              "Name: Answer_possible, Length: 75055, dtype: int64"
            ]
          },
          "execution_count": 13,
          "metadata": {},
          "output_type": "execute_result"
        }
      ],
      "source": [
        "train['Answer_possible'].map({True:1, False:0})"
      ]
    },
    {
      "cell_type": "code",
      "execution_count": 14,
      "metadata": {
        "id": "yeOqHff9WWy_"
      },
      "outputs": [],
      "source": [
        "df = train.groupby('Theme')"
      ]
    },
    {
      "cell_type": "code",
      "execution_count": 15,
      "metadata": {
        "colab": {
          "base_uri": "https://localhost:8080/"
        },
        "id": "8WC_QVjqWmvv",
        "outputId": "3d4ee0ac-d427-4459-e9a6-644aa4f3b8a3"
      },
      "outputs": [
        {
          "data": {
            "text/plain": [
              "Theme                                    Theme                                  \n",
              "2008_Summer_Olympics_torch_relay         2008_Summer_Olympics_torch_relay           356\n",
              "ASCII                                    ASCII                                      165\n",
              "A_cappella                               A_cappella                                 198\n",
              "Adolescence                              Adolescence                                215\n",
              "Affirmative_action_in_the_United_States  Affirmative_action_in_the_United_States    306\n",
              "                                                                                   ... \n",
              "Wood                                     Wood                                       230\n",
              "Xbox_360                                 Xbox_360                                   188\n",
              "Yale_University                          Yale_University                            313\n",
              "YouTube                                  YouTube                                    235\n",
              "Zhejiang                                 Zhejiang                                   251\n",
              "Name: Theme, Length: 361, dtype: int64"
            ]
          },
          "execution_count": 15,
          "metadata": {},
          "output_type": "execute_result"
        }
      ],
      "source": [
        "df['Theme'].value_counts()"
      ]
    },
    {
      "cell_type": "code",
      "execution_count": 16,
      "metadata": {
        "id": "HJXhE8_ZXGJ3"
      },
      "outputs": [],
      "source": [
        "df1 = df['Answer_possible'].value_counts().to_frame()"
      ]
    },
    {
      "cell_type": "code",
      "execution_count": 17,
      "metadata": {
        "colab": {
          "base_uri": "https://localhost:8080/",
          "height": 455
        },
        "id": "rxPBkkhMY3xM",
        "outputId": "30dd09ff-8aa3-407f-e13e-a98b89771bcb"
      },
      "outputs": [
        {
          "data": {
            "text/html": [
              "<div>\n",
              "<style scoped>\n",
              "    .dataframe tbody tr th:only-of-type {\n",
              "        vertical-align: middle;\n",
              "    }\n",
              "\n",
              "    .dataframe tbody tr th {\n",
              "        vertical-align: top;\n",
              "    }\n",
              "\n",
              "    .dataframe thead th {\n",
              "        text-align: right;\n",
              "    }\n",
              "</style>\n",
              "<table border=\"1\" class=\"dataframe\">\n",
              "  <thead>\n",
              "    <tr style=\"text-align: right;\">\n",
              "      <th></th>\n",
              "      <th></th>\n",
              "      <th>Answer_possible</th>\n",
              "    </tr>\n",
              "    <tr>\n",
              "      <th>Theme</th>\n",
              "      <th>Answer_possible</th>\n",
              "      <th></th>\n",
              "    </tr>\n",
              "  </thead>\n",
              "  <tbody>\n",
              "    <tr>\n",
              "      <th>2008_Summer_Olympics_torch_relay</th>\n",
              "      <th>True</th>\n",
              "      <td>356</td>\n",
              "    </tr>\n",
              "    <tr>\n",
              "      <th rowspan=\"2\" valign=\"top\">ASCII</th>\n",
              "      <th>True</th>\n",
              "      <td>83</td>\n",
              "    </tr>\n",
              "    <tr>\n",
              "      <th>False</th>\n",
              "      <td>82</td>\n",
              "    </tr>\n",
              "    <tr>\n",
              "      <th rowspan=\"2\" valign=\"top\">A_cappella</th>\n",
              "      <th>False</th>\n",
              "      <td>122</td>\n",
              "    </tr>\n",
              "    <tr>\n",
              "      <th>True</th>\n",
              "      <td>76</td>\n",
              "    </tr>\n",
              "    <tr>\n",
              "      <th>...</th>\n",
              "      <th>...</th>\n",
              "      <td>...</td>\n",
              "    </tr>\n",
              "    <tr>\n",
              "      <th>Yale_University</th>\n",
              "      <th>True</th>\n",
              "      <td>151</td>\n",
              "    </tr>\n",
              "    <tr>\n",
              "      <th rowspan=\"2\" valign=\"top\">YouTube</th>\n",
              "      <th>True</th>\n",
              "      <td>123</td>\n",
              "    </tr>\n",
              "    <tr>\n",
              "      <th>False</th>\n",
              "      <td>112</td>\n",
              "    </tr>\n",
              "    <tr>\n",
              "      <th rowspan=\"2\" valign=\"top\">Zhejiang</th>\n",
              "      <th>True</th>\n",
              "      <td>132</td>\n",
              "    </tr>\n",
              "    <tr>\n",
              "      <th>False</th>\n",
              "      <td>119</td>\n",
              "    </tr>\n",
              "  </tbody>\n",
              "</table>\n",
              "<p>591 rows × 1 columns</p>\n",
              "</div>"
            ],
            "text/plain": [
              "                                                  Answer_possible\n",
              "Theme                            Answer_possible                 \n",
              "2008_Summer_Olympics_torch_relay True                         356\n",
              "ASCII                            True                          83\n",
              "                                 False                         82\n",
              "A_cappella                       False                        122\n",
              "                                 True                          76\n",
              "...                                                           ...\n",
              "Yale_University                  True                         151\n",
              "YouTube                          True                         123\n",
              "                                 False                        112\n",
              "Zhejiang                         True                         132\n",
              "                                 False                        119\n",
              "\n",
              "[591 rows x 1 columns]"
            ]
          },
          "execution_count": 17,
          "metadata": {},
          "output_type": "execute_result"
        }
      ],
      "source": [
        "df1"
      ]
    },
    {
      "cell_type": "code",
      "execution_count": 18,
      "metadata": {
        "colab": {
          "base_uri": "https://localhost:8080/"
        },
        "id": "IVulNGzEa-uU",
        "outputId": "5274521c-8c36-4529-df1d-1df86ecac64a"
      },
      "outputs": [
        {
          "data": {
            "text/plain": [
              "2"
            ]
          },
          "execution_count": 18,
          "metadata": {},
          "output_type": "execute_result"
        }
      ],
      "source": [
        "i = train['Answer_text'][1]\n",
        "list(i).count(\" \")"
      ]
    },
    {
      "cell_type": "code",
      "execution_count": 19,
      "metadata": {
        "id": "DhrPhSneuk4y"
      },
      "outputs": [],
      "source": [
        "s=[]\n",
        "for i in train['Answer_text']:\n",
        "  a = list(i).count(\" \")+1\n",
        "  s.append(a)\n",
        "train['ans_len'] = s  "
      ]
    },
    {
      "cell_type": "code",
      "execution_count": 20,
      "metadata": {
        "colab": {
          "base_uri": "https://localhost:8080/"
        },
        "id": "FnGrPF25ycHm",
        "outputId": "3f4de4cd-1587-428a-ca52-f0b613799003"
      },
      "outputs": [
        {
          "name": "stderr",
          "output_type": "stream",
          "text": [
            "C:\\Users\\ckred\\AppData\\Local\\Temp\\ipykernel_16508\\3517648895.py:3: SettingWithCopyWarning: \n",
            "A value is trying to be set on a copy of a slice from a DataFrame\n",
            "\n",
            "See the caveats in the documentation: https://pandas.pydata.org/pandas-docs/stable/user_guide/indexing.html#returning-a-view-versus-a-copy\n",
            "  train['ans_len'][i]=0\n"
          ]
        }
      ],
      "source": [
        "for i in range(len(train)):\n",
        "  if train['Answer_possible'][i] == False:\n",
        "    train['ans_len'][i]=0"
      ]
    },
    {
      "cell_type": "code",
      "execution_count": 21,
      "metadata": {
        "colab": {
          "base_uri": "https://localhost:8080/",
          "height": 1000
        },
        "id": "56ckW-cgwWZo",
        "outputId": "55116a5c-4fd1-42f0-b348-8ad9d280b281"
      },
      "outputs": [
        {
          "data": {
            "text/html": [
              "<div>\n",
              "<style scoped>\n",
              "    .dataframe tbody tr th:only-of-type {\n",
              "        vertical-align: middle;\n",
              "    }\n",
              "\n",
              "    .dataframe tbody tr th {\n",
              "        vertical-align: top;\n",
              "    }\n",
              "\n",
              "    .dataframe thead th {\n",
              "        text-align: right;\n",
              "    }\n",
              "</style>\n",
              "<table border=\"1\" class=\"dataframe\">\n",
              "  <thead>\n",
              "    <tr style=\"text-align: right;\">\n",
              "      <th></th>\n",
              "      <th>Unnamed: 0</th>\n",
              "      <th>Theme</th>\n",
              "      <th>Paragraph</th>\n",
              "      <th>Question</th>\n",
              "      <th>Answer_possible</th>\n",
              "      <th>Answer_text</th>\n",
              "      <th>Answer_start</th>\n",
              "      <th>ans_len</th>\n",
              "    </tr>\n",
              "  </thead>\n",
              "  <tbody>\n",
              "    <tr>\n",
              "      <th>42427</th>\n",
              "      <td>74833</td>\n",
              "      <td>Child_labour</td>\n",
              "      <td>In developing countries, with high poverty and...</td>\n",
              "      <td>What is the largest employer of child labour?</td>\n",
              "      <td>True</td>\n",
              "      <td>['agriculture']</td>\n",
              "      <td>[284]</td>\n",
              "      <td>1</td>\n",
              "    </tr>\n",
              "    <tr>\n",
              "      <th>5608</th>\n",
              "      <td>9893</td>\n",
              "      <td>Iranian_languages</td>\n",
              "      <td>In addition to Old Persian and Avestan, which ...</td>\n",
              "      <td>What language to Kurdish become?</td>\n",
              "      <td>False</td>\n",
              "      <td>[]</td>\n",
              "      <td>[]</td>\n",
              "      <td>0</td>\n",
              "    </tr>\n",
              "    <tr>\n",
              "      <th>53432</th>\n",
              "      <td>93683</td>\n",
              "      <td>Renewable_energy_commercialization</td>\n",
              "      <td>Hydroelectricity is the term referring to elec...</td>\n",
              "      <td>Hydroelectricity accounts for what percentage ...</td>\n",
              "      <td>True</td>\n",
              "      <td>['Hydroelectricity']</td>\n",
              "      <td>[0]</td>\n",
              "      <td>1</td>\n",
              "    </tr>\n",
              "    <tr>\n",
              "      <th>48975</th>\n",
              "      <td>86047</td>\n",
              "      <td>PlayStation_3</td>\n",
              "      <td>CNET awarded PS3 Slim four out of five stars p...</td>\n",
              "      <td>How many of its own five stars did TechRadar a...</td>\n",
              "      <td>True</td>\n",
              "      <td>['four and a half']</td>\n",
              "      <td>[266]</td>\n",
              "      <td>4</td>\n",
              "    </tr>\n",
              "    <tr>\n",
              "      <th>12100</th>\n",
              "      <td>22123</td>\n",
              "      <td>Classical_music</td>\n",
              "      <td>Its written transmission, along with the vener...</td>\n",
              "      <td>How are performers expected to play a work due...</td>\n",
              "      <td>True</td>\n",
              "      <td>['in a way that realizes in detail the origina...</td>\n",
              "      <td>[149]</td>\n",
              "      <td>13</td>\n",
              "    </tr>\n",
              "    <tr>\n",
              "      <th>39546</th>\n",
              "      <td>69039</td>\n",
              "      <td>Literature</td>\n",
              "      <td>Greek drama exemplifies the earliest form of d...</td>\n",
              "      <td>What was written for radio broadcast in 1838?</td>\n",
              "      <td>False</td>\n",
              "      <td>[]</td>\n",
              "      <td>[]</td>\n",
              "      <td>0</td>\n",
              "    </tr>\n",
              "    <tr>\n",
              "      <th>38635</th>\n",
              "      <td>67496</td>\n",
              "      <td>Switzerland</td>\n",
              "      <td>In 2012, resident foreigners made up 23.3% of ...</td>\n",
              "      <td>Who were the largest single group of foreigner...</td>\n",
              "      <td>True</td>\n",
              "      <td>['Italians']</td>\n",
              "      <td>[126]</td>\n",
              "      <td>1</td>\n",
              "    </tr>\n",
              "    <tr>\n",
              "      <th>20162</th>\n",
              "      <td>35041</td>\n",
              "      <td>Aircraft_carrier</td>\n",
              "      <td>A fleet carrier is intended to operate with th...</td>\n",
              "      <td>What capability does a fleet carrier offer?</td>\n",
              "      <td>True</td>\n",
              "      <td>['offensive']</td>\n",
              "      <td>[83]</td>\n",
              "      <td>1</td>\n",
              "    </tr>\n",
              "    <tr>\n",
              "      <th>13787</th>\n",
              "      <td>25004</td>\n",
              "      <td>Guinea-Bissau</td>\n",
              "      <td>Guinea-Bissau (i/ˈɡɪni bɪˈsaʊ/, GI-nee-bi-SOW)...</td>\n",
              "      <td>How many square miles is Guinea-Bissau?</td>\n",
              "      <td>True</td>\n",
              "      <td>['13,948 sq mi']</td>\n",
              "      <td>[237]</td>\n",
              "      <td>3</td>\n",
              "    </tr>\n",
              "    <tr>\n",
              "      <th>64448</th>\n",
              "      <td>113815</td>\n",
              "      <td>British_Isles</td>\n",
              "      <td>By the Late Middle Ages, Great Britain was sep...</td>\n",
              "      <td>Since the Norman invasion who had feudal posse...</td>\n",
              "      <td>True</td>\n",
              "      <td>['the Pope']</td>\n",
              "      <td>[1065]</td>\n",
              "      <td>2</td>\n",
              "    </tr>\n",
              "    <tr>\n",
              "      <th>22062</th>\n",
              "      <td>38406</td>\n",
              "      <td>FC_Barcelona</td>\n",
              "      <td>Founded in 1899 by a group of Swiss, English a...</td>\n",
              "      <td>How much is club Barcelona worth?</td>\n",
              "      <td>True</td>\n",
              "      <td>['$3.16 billion']</td>\n",
              "      <td>[346]</td>\n",
              "      <td>2</td>\n",
              "    </tr>\n",
              "    <tr>\n",
              "      <th>33364</th>\n",
              "      <td>59167</td>\n",
              "      <td>Presbyterianism</td>\n",
              "      <td>The roots of Presbyterianism lie in the Europe...</td>\n",
              "      <td>Which Reformation took place during the 17th c...</td>\n",
              "      <td>False</td>\n",
              "      <td>[]</td>\n",
              "      <td>[]</td>\n",
              "      <td>0</td>\n",
              "    </tr>\n",
              "    <tr>\n",
              "      <th>28511</th>\n",
              "      <td>51086</td>\n",
              "      <td>Hellenistic_period</td>\n",
              "      <td>Hellenistic military equipment was generally c...</td>\n",
              "      <td>How long was Demetrius Poliorcetes siege of Rh...</td>\n",
              "      <td>True</td>\n",
              "      <td>['12-month']</td>\n",
              "      <td>[710]</td>\n",
              "      <td>1</td>\n",
              "    </tr>\n",
              "    <tr>\n",
              "      <th>66719</th>\n",
              "      <td>117363</td>\n",
              "      <td>Sumer</td>\n",
              "      <td>The Sumerians developed a complex system of me...</td>\n",
              "      <td>What tool was invented in the 27th century BC?</td>\n",
              "      <td>False</td>\n",
              "      <td>[]</td>\n",
              "      <td>[]</td>\n",
              "      <td>0</td>\n",
              "    </tr>\n",
              "    <tr>\n",
              "      <th>54696</th>\n",
              "      <td>96078</td>\n",
              "      <td>East_Prussia</td>\n",
              "      <td>In the 1772 First Partition of Poland, the Pru...</td>\n",
              "      <td>In what year did Ducal Prussia cease to exist?</td>\n",
              "      <td>False</td>\n",
              "      <td>[]</td>\n",
              "      <td>[]</td>\n",
              "      <td>0</td>\n",
              "    </tr>\n",
              "    <tr>\n",
              "      <th>74589</th>\n",
              "      <td>129672</td>\n",
              "      <td>Hunting</td>\n",
              "      <td>A variety of industries benefit from hunting a...</td>\n",
              "      <td>What country has the most areas that are hard ...</td>\n",
              "      <td>False</td>\n",
              "      <td>[]</td>\n",
              "      <td>[]</td>\n",
              "      <td>0</td>\n",
              "    </tr>\n",
              "    <tr>\n",
              "      <th>1985</th>\n",
              "      <td>3738</td>\n",
              "      <td>New_York_City</td>\n",
              "      <td>There are seven state parks within the confine...</td>\n",
              "      <td>How many state parks exist in New York City?</td>\n",
              "      <td>True</td>\n",
              "      <td>['seven']</td>\n",
              "      <td>[10]</td>\n",
              "      <td>1</td>\n",
              "    </tr>\n",
              "    <tr>\n",
              "      <th>66243</th>\n",
              "      <td>116360</td>\n",
              "      <td>Airport</td>\n",
              "      <td>An airport is an aerodrome with facilities for...</td>\n",
              "      <td>What is an aerodome with facilities for flight...</td>\n",
              "      <td>True</td>\n",
              "      <td>['airport']</td>\n",
              "      <td>[3]</td>\n",
              "      <td>1</td>\n",
              "    </tr>\n",
              "    <tr>\n",
              "      <th>46817</th>\n",
              "      <td>82398</td>\n",
              "      <td>Northwestern_University</td>\n",
              "      <td>Northwestern was founded in 1851 by John Evans...</td>\n",
              "      <td>Who rejected Northwestern University?</td>\n",
              "      <td>False</td>\n",
              "      <td>[]</td>\n",
              "      <td>[]</td>\n",
              "      <td>0</td>\n",
              "    </tr>\n",
              "    <tr>\n",
              "      <th>58007</th>\n",
              "      <td>101128</td>\n",
              "      <td>Seven_Years%27_War</td>\n",
              "      <td>The British—by inclination as well as for prac...</td>\n",
              "      <td>Who led the armies supporting British interest...</td>\n",
              "      <td>True</td>\n",
              "      <td>['Frederick the Great of Prussia']</td>\n",
              "      <td>[563]</td>\n",
              "      <td>5</td>\n",
              "    </tr>\n",
              "  </tbody>\n",
              "</table>\n",
              "</div>"
            ],
            "text/plain": [
              "       Unnamed: 0                               Theme  \\\n",
              "42427       74833                        Child_labour   \n",
              "5608         9893                   Iranian_languages   \n",
              "53432       93683  Renewable_energy_commercialization   \n",
              "48975       86047                       PlayStation_3   \n",
              "12100       22123                     Classical_music   \n",
              "39546       69039                          Literature   \n",
              "38635       67496                         Switzerland   \n",
              "20162       35041                    Aircraft_carrier   \n",
              "13787       25004                       Guinea-Bissau   \n",
              "64448      113815                       British_Isles   \n",
              "22062       38406                        FC_Barcelona   \n",
              "33364       59167                     Presbyterianism   \n",
              "28511       51086                  Hellenistic_period   \n",
              "66719      117363                               Sumer   \n",
              "54696       96078                        East_Prussia   \n",
              "74589      129672                             Hunting   \n",
              "1985         3738                       New_York_City   \n",
              "66243      116360                             Airport   \n",
              "46817       82398             Northwestern_University   \n",
              "58007      101128                  Seven_Years%27_War   \n",
              "\n",
              "                                               Paragraph  \\\n",
              "42427  In developing countries, with high poverty and...   \n",
              "5608   In addition to Old Persian and Avestan, which ...   \n",
              "53432  Hydroelectricity is the term referring to elec...   \n",
              "48975  CNET awarded PS3 Slim four out of five stars p...   \n",
              "12100  Its written transmission, along with the vener...   \n",
              "39546  Greek drama exemplifies the earliest form of d...   \n",
              "38635  In 2012, resident foreigners made up 23.3% of ...   \n",
              "20162  A fleet carrier is intended to operate with th...   \n",
              "13787  Guinea-Bissau (i/ˈɡɪni bɪˈsaʊ/, GI-nee-bi-SOW)...   \n",
              "64448  By the Late Middle Ages, Great Britain was sep...   \n",
              "22062  Founded in 1899 by a group of Swiss, English a...   \n",
              "33364  The roots of Presbyterianism lie in the Europe...   \n",
              "28511  Hellenistic military equipment was generally c...   \n",
              "66719  The Sumerians developed a complex system of me...   \n",
              "54696  In the 1772 First Partition of Poland, the Pru...   \n",
              "74589  A variety of industries benefit from hunting a...   \n",
              "1985   There are seven state parks within the confine...   \n",
              "66243  An airport is an aerodrome with facilities for...   \n",
              "46817  Northwestern was founded in 1851 by John Evans...   \n",
              "58007  The British—by inclination as well as for prac...   \n",
              "\n",
              "                                                Question  Answer_possible  \\\n",
              "42427      What is the largest employer of child labour?             True   \n",
              "5608                    What language to Kurdish become?            False   \n",
              "53432  Hydroelectricity accounts for what percentage ...             True   \n",
              "48975  How many of its own five stars did TechRadar a...             True   \n",
              "12100  How are performers expected to play a work due...             True   \n",
              "39546      What was written for radio broadcast in 1838?            False   \n",
              "38635  Who were the largest single group of foreigner...             True   \n",
              "20162        What capability does a fleet carrier offer?             True   \n",
              "13787            How many square miles is Guinea-Bissau?             True   \n",
              "64448  Since the Norman invasion who had feudal posse...             True   \n",
              "22062                  How much is club Barcelona worth?             True   \n",
              "33364  Which Reformation took place during the 17th c...            False   \n",
              "28511  How long was Demetrius Poliorcetes siege of Rh...             True   \n",
              "66719     What tool was invented in the 27th century BC?            False   \n",
              "54696     In what year did Ducal Prussia cease to exist?            False   \n",
              "74589  What country has the most areas that are hard ...            False   \n",
              "1985        How many state parks exist in New York City?             True   \n",
              "66243  What is an aerodome with facilities for flight...             True   \n",
              "46817              Who rejected Northwestern University?            False   \n",
              "58007  Who led the armies supporting British interest...             True   \n",
              "\n",
              "                                             Answer_text Answer_start  ans_len  \n",
              "42427                                    ['agriculture']        [284]        1  \n",
              "5608                                                  []           []        0  \n",
              "53432                               ['Hydroelectricity']          [0]        1  \n",
              "48975                                ['four and a half']        [266]        4  \n",
              "12100  ['in a way that realizes in detail the origina...        [149]       13  \n",
              "39546                                                 []           []        0  \n",
              "38635                                       ['Italians']        [126]        1  \n",
              "20162                                      ['offensive']         [83]        1  \n",
              "13787                                   ['13,948 sq mi']        [237]        3  \n",
              "64448                                       ['the Pope']       [1065]        2  \n",
              "22062                                  ['$3.16 billion']        [346]        2  \n",
              "33364                                                 []           []        0  \n",
              "28511                                       ['12-month']        [710]        1  \n",
              "66719                                                 []           []        0  \n",
              "54696                                                 []           []        0  \n",
              "74589                                                 []           []        0  \n",
              "1985                                           ['seven']         [10]        1  \n",
              "66243                                        ['airport']          [3]        1  \n",
              "46817                                                 []           []        0  \n",
              "58007                 ['Frederick the Great of Prussia']        [563]        5  "
            ]
          },
          "execution_count": 21,
          "metadata": {},
          "output_type": "execute_result"
        }
      ],
      "source": [
        "train.sample(20)"
      ]
    },
    {
      "cell_type": "code",
      "execution_count": 22,
      "metadata": {
        "colab": {
          "base_uri": "https://localhost:8080/"
        },
        "id": "82wsUT2hw3xI",
        "outputId": "c6a0c8df-8de6-413e-c74f-9b88c5cb1e73"
      },
      "outputs": [
        {
          "data": {
            "text/plain": [
              "0     24930\n",
              "1     17288\n",
              "2     12710\n",
              "3      7581\n",
              "4      3636\n",
              "5      2352\n",
              "6      1444\n",
              "7      1077\n",
              "8       798\n",
              "9       532\n",
              "10      439\n",
              "11      400\n",
              "12      325\n",
              "13      254\n",
              "14      218\n",
              "15      205\n",
              "17      142\n",
              "16      134\n",
              "18      109\n",
              "19       90\n",
              "20       81\n",
              "22       74\n",
              "21       66\n",
              "23       60\n",
              "24       36\n",
              "25       31\n",
              "26       20\n",
              "27       15\n",
              "28        5\n",
              "30        2\n",
              "29        1\n",
              "Name: ans_len, dtype: int64"
            ]
          },
          "execution_count": 22,
          "metadata": {},
          "output_type": "execute_result"
        }
      ],
      "source": [
        "train['ans_len'].value_counts()"
      ]
    },
    {
      "cell_type": "code",
      "execution_count": 23,
      "metadata": {
        "id": "_3KHdQBkzdwF"
      },
      "outputs": [
        {
          "data": {
            "text/plain": [
              "<AxesSubplot: >"
            ]
          },
          "execution_count": 23,
          "metadata": {},
          "output_type": "execute_result"
        },
        {
          "data": {
            "image/png": "[encoded data removed]",
            "text/plain": [
              "<Figure size 640x480 with 1 Axes>"
            ]
          },
          "metadata": {},
          "output_type": "display_data"
        }
      ],
      "source": [
        "train[\"ans_len\"].hist(bins=20)"
      ]
    },
    {
      "cell_type": "code",
      "execution_count": 27,
      "metadata": {},
      "outputs": [
        {
          "data": {
            "text/plain": [
              "<AxesSubplot: >"
            ]
          },
          "execution_count": 27,
          "metadata": {},
          "output_type": "execute_result"
        },
        {
          "data": {
            "image/png": "[encoded data removed]",
            "text/plain": [
              "<Figure size 640x480 with 1 Axes>"
            ]
          },
          "metadata": {},
          "output_type": "display_data"
        }
      ],
      "source": [
        "train['ans_len'].hist(bins=20)"
      ]
    },
    {
      "cell_type": "code",
      "execution_count": null,
      "metadata": {},
      "outputs": [],
      "source": []
    }
  ],
  "metadata": {
    "colab": {
      "provenance": []
    },
    "kernelspec": {
      "display_name": "Python 3",
      "language": "python",
      "name": "python3"
    },
    "language_info": {
      "codemirror_mode": {
        "name": "ipython",
        "version": 3
      },
      "file_extension": ".py",
      "mimetype": "text/x-python",
      "name": "python",
      "nbconvert_exporter": "python",
      "pygments_lexer": "ipython3",
      "version": "3.11.0"
    },
    "vscode": {
      "interpreter": {
        "hash": "c261aea317cc0286b3b3261fbba9abdec21eaa57589985bb7a274bf54d6cc0a7"
      }
    }
  },
  "nbformat": 4,
  "nbformat_minor": 0
}
